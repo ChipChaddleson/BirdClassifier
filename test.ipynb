{
 "cells": [
  {
   "cell_type": "code",
   "execution_count": 10,
   "metadata": {},
   "outputs": [
    {
     "name": "stdout",
     "output_type": "stream",
     "text": [
      "-962\n",
      "True\n"
     ]
    }
   ],
   "source": [
    "s = [274,-735,-911,80,454,-511,922,-775,985,-669,-463,-896,-629,-586,910,-361,288,-375,88,556,-578,-406,-87,25,377,-635,-445,-289,646,-962,-487,-924,-968,-962,502,36,129,-611,54,-27,-496,915,-84,-782,349,678,332,-114,345,14,119,710,821,-194,988,38,-369,409,-559,-529,-298,-593,705]\n",
    "class Solution:\n",
    "    def containsDuplicate(self, nums) -> bool:\n",
    "        hold = nums\n",
    "        for i, v in enumerate(nums):\n",
    "            if v in nums[i+1:]: \n",
    "                print(v)\n",
    "                return True\n",
    "        return False\n",
    "    \n",
    "t = Solution()\n",
    "print(t.containsDuplicate(s))"
   ]
  },
  {
   "cell_type": "code",
   "execution_count": null,
   "metadata": {},
   "outputs": [],
   "source": [
    "[-962,274,-735,-911,80,454,-511,922,-775,985,-669,-463,-896,-629,-586,910,-361,288,-375,88,556,-578,-406,\n",
    " -87,25,377,-635,-445,-289,646,-962,-487,-924,-968,-962,502,36,129,-611,54,-27,-496,915,-84,-782,349,\n",
    " 678,332,-114,345,14,119,710,821,-194,988,38,-369,409,-559,-529,-298,-593,705]"
   ]
  },
  {
   "cell_type": "code",
   "execution_count": 12,
   "metadata": {},
   "outputs": [
    {
     "name": "stdout",
     "output_type": "stream",
     "text": [
      "1714574318629168900\n"
     ]
    }
   ],
   "source": [
    "import time\n",
    "t1 = time.time_ns()\n",
    "x = 0 \n",
    "for i in range(1_000_000):\n",
    "    x += 1\n",
    "print(f\"{x}, {time.time_ns()-t1}\")"
   ]
  }
 ],
 "metadata": {
  "kernelspec": {
   "display_name": "Python 3",
   "language": "python",
   "name": "python3"
  },
  "language_info": {
   "codemirror_mode": {
    "name": "ipython",
    "version": 3
   },
   "file_extension": ".py",
   "mimetype": "text/x-python",
   "name": "python",
   "nbconvert_exporter": "python",
   "pygments_lexer": "ipython3",
   "version": "3.10.11"
  }
 },
 "nbformat": 4,
 "nbformat_minor": 2
}
